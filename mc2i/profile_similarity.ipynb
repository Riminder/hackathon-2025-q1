{
 "cells": [
  {
   "cell_type": "markdown",
   "metadata": {},
   "source": [
    "Open this notebook in Google Colab : [![Open In Colab](https://colab.research.google.com/assets/colab-badge.svg)](https://colab.research.google.com/github/Riminder/hrflow-cookbook/blob/main/examples/%5BGrading%5D%20fast_grade_profiles_for_new_job.ipynb)"
   ]
  },
  {
   "cell_type": "markdown",
   "metadata": {},
   "source": [
    "##### © 2025 HrFlow.ai — AI Research Department  \n",
    "Licensed under the Apache License, Version 2.0."
   ]
  },
  {
   "cell_type": "code",
   "execution_count": null,
   "metadata": {
    "vscode": {
     "languageId": "plaintext"
    }
   },
   "outputs": [],
   "source": [
    "# Copyright 2025 HrFlow's AI Research Department. All Rights Reserved.\n",
    "#\n",
    "# Licensed under the Apache License, Version 2.0 (the \"License\");\n",
    "# you may not use this file except in compliance with the License.\n",
    "# You may obtain a copy of the License at\n",
    "#\n",
    "#     http://www.apache.org/licenses/LICENSE-2.0\n",
    "#\n",
    "# Unless required by applicable law or agreed to in writing, software\n",
    "# distributed under the License is distributed on an \"AS IS\" BASIS,\n",
    "# WITHOUT WARRANTIES OR CONDITIONS OF ANY KIND, either express or implied.\n",
    "# See the License for the specific language governing permissions and\n",
    "# limitations under the License.\n",
    "# =============================================================================="
   ]
  },
  {
   "cell_type": "markdown",
   "metadata": {},
   "source": [
    "**Welcome to this Google Colaboratory tutorial for developers!**\n",
    "This notebook is designed to help you to find similar candidates instantly based on **profile-to-profile matching**.\n",
    "\n",
    "Here’s a quick overview of the notebook's workflow:\n",
    "\n",
    "1. **[ ⚙️ Getting Started](#setup):** Install dependencies and authenticate with your HrFlow.ai API.\n",
    "2. **[ 📤 Upload Resume](#upload-resume):** Upload a resume file from your local system.\n",
    "3. **[ 📝 Parse a Resume in a Source](#resume-parsing):** Parse a Resume and create a Profile from it using the Parsing API.\n",
    "4. **[ 👷 Profile Similarity](#matching):** Find Profiles similar to a target Profile."
   ]
  },
  {
   "cell_type": "markdown",
   "metadata": {},
   "source": [
    "<a name=\"setup\"></a>\n",
    "# **1. ⚙️ Getting Started:**\n",
    "Let’s install and import the necessary Python packages to run the pipeline."
   ]
  },
  {
   "cell_type": "code",
   "execution_count": null,
   "metadata": {
    "vscode": {
     "languageId": "plaintext"
    }
   },
   "outputs": [],
   "source": [
    "!pip install --quiet hrflow"
   ]
  },
  {
   "cell_type": "code",
   "execution_count": null,
   "metadata": {
    "vscode": {
     "languageId": "plaintext"
    }
   },
   "outputs": [],
   "source": [
    "from getpass import getpass\n",
    "from hrflow import Hrflow"
   ]
  },
  {
   "cell_type": "markdown",
   "metadata": {},
   "source": [
    "Authenticate with your HrFlow.ai API credentials\n",
    "\n",
    "You’ll be prompted to enter:\n",
    "\n",
    "- `API_SECRET`: Your HrFlow Read/Write API Secret Key →  \n",
    "  Get it here: `https://{subdomain}.hrflow.ai/settings/api/keys`\n",
    "  \n",
    "- `API_USER`: Your HrFlow user email address\n"
   ]
  },
  {
   "cell_type": "code",
   "execution_count": null,
   "metadata": {
    "vscode": {
     "languageId": "plaintext"
    }
   },
   "outputs": [],
   "source": [
    "API_SECRET = getpass(\"YOUR_API_SECRET\")\n",
    "API_USER = getpass(\"USER@EMAIL.DOMAIN\")\n",
    "\n",
    "client = Hrflow(api_secret=API_SECRET, api_user=API_USER)"
   ]
  },
  {
   "cell_type": "markdown",
   "metadata": {},
   "source": [
    "<a name=\"upload-resume\"></a>\n",
    "# **2. 📤 Upload Resume:**"
   ]
  },
  {
   "cell_type": "code",
   "execution_count": null,
   "metadata": {
    "vscode": {
     "languageId": "plaintext"
    }
   },
   "outputs": [],
   "source": [
    "from google.colab import files\n",
    "binary_cv = list(files.upload().values())[0]"
   ]
  },
  {
   "cell_type": "markdown",
   "metadata": {},
   "source": [
    "<a name=\"resume-parsing\"></a>\n",
    "# **3. 📝 Parse a Resume in a Hrflow.ai Source:**"
   ]
  },
  {
   "cell_type": "markdown",
   "metadata": {},
   "source": [
    "Please fill the following variables with your own information:\n",
    "\n",
    "`SOURCE_KEY`: The key (identifier) of the Source to which the Profile will be added."
   ]
  },
  {
   "cell_type": "code",
   "execution_count": null,
   "metadata": {
    "vscode": {
     "languageId": "plaintext"
    }
   },
   "outputs": [],
   "source": [
    "SOURCE_KEY = \"xxx\""
   ]
  },
  {
   "cell_type": "code",
   "execution_count": null,
   "metadata": {
    "vscode": {
     "languageId": "plaintext"
    }
   },
   "outputs": [],
   "source": [
    "profile_parsing = client.profile.parsing.add_file(SOURCE_KEY, profile_file=binary_cv, reference='resume_parsing')"
   ]
  },
  {
   "cell_type": "markdown",
   "metadata": {},
   "source": [
    "<a name=\"matching\"></a>\n",
    "# **4. 👷 Profile Similarity:**"
   ]
  },
  {
   "cell_type": "markdown",
   "metadata": {},
   "source": [
    "Please fill the following variables with your own information:\n",
    "\n",
    "`SIMILARITY_SOURCE_KEYS` : The list of the keys of the Sources containing the targeted Profiles. Example : [\"xxx\", \"yyy\", \"zzz\"]"
   ]
  },
  {
   "cell_type": "code",
   "execution_count": null,
   "metadata": {
    "vscode": {
     "languageId": "plaintext"
    }
   },
   "outputs": [],
   "source": [
    "SIMILARITY_SOURCE_KEYS = [\"aaa\", \"bbb\", \"ccc\"]"
   ]
  },
  {
   "cell_type": "code",
   "execution_count": null,
   "metadata": {
    "vscode": {
     "languageId": "plaintext"
    }
   },
   "outputs": [],
   "source": [
    "def profile_matching(profile_key, source_key, source_keys):\n",
    "    import requests\n",
    "    import json\n",
    "\n",
    "    url = \"https://api.hrflow.ai/v1/profiles/matching\"\n",
    "\n",
    "    params = {\n",
    "        \"profile_key\": profile_key,\n",
    "        \"source_key\": source_key,\n",
    "        \"source_keys\": json.dumps(source_keys),\n",
    "        \"page\": 1,\n",
    "        \"limit\": 300,\n",
    "        \"order_by\": \"desc\",\n",
    "    }\n",
    "\n",
    "    headers = {\n",
    "        \"accept\": \"application/json\",\n",
    "        \"X-API-KEY\": API_SECRET,\n",
    "        \"X-USER-EMAIL\": API_USER,\n",
    "    }\n",
    "\n",
    "    response = requests.get(url, params=params, headers=headers)\n",
    "    return response.json()"
   ]
  },
  {
   "cell_type": "markdown",
   "metadata": {},
   "source": [
    "Make API request to HrFlow.ai's matching endpoint to find similar profiles to a target candidate."
   ]
  },
  {
   "cell_type": "code",
   "execution_count": null,
   "metadata": {
    "vscode": {
     "languageId": "plaintext"
    }
   },
   "outputs": [],
   "source": [
    "PROFILE_KEY = profile_parsing['data']['profile']['key']\n",
    "\n",
    "response = profile_matching(PROFILE_KEY, SOURCE_KEY, SIMILARITY_SOURCE_KEYS)\n",
    "\n",
    "if response[\"code\"] == 200:\n",
    "    print(\"🎊 \\033[92mCongrats !\\033[0m You have successfully found profiles matching the target profile\")\n",
    "    print(response)\n",
    "else :\n",
    "    print(\"🚨 \\033[91mSomething went wrong !\\033[0m\")\n",
    "    print(response)"
   ]
  },
  {
   "cell_type": "markdown",
   "metadata": {},
   "source": [
    " Display the Top Scored Candidates with their matching scores grouped by source"
   ]
  },
  {
   "cell_type": "code",
   "execution_count": null,
   "metadata": {
    "vscode": {
     "languageId": "plaintext"
    }
   },
   "outputs": [],
   "source": [
    "scores = [score_couple[1] for score_couple in response[\"data\"][\"predictions\"]]\n",
    "\n",
    "# Group profiles by source_key\n",
    "source_profiles = {}\n",
    "for profile, score in zip(response[\"data\"][\"profiles\"], scores):\n",
    "    source_key = profile[\"source\"][\"key\"]\n",
    "    if source_key not in source_profiles:\n",
    "        source_profiles[source_key] = []\n",
    "    source_profiles[source_key].append((profile, score))\n",
    "\n",
    "# Print formatted results by source\n",
    "for source_key, profiles in source_profiles.items():\n",
    "    # Calculate average score for this source\n",
    "    avg_score = sum(score for _, score in profiles) / len(profiles)\n",
    "    print(f\"# Source {source_key} (average score: \\033[1m\\033[92m{avg_score:.3f}\\033[0m):\")\n",
    "\n",
    "    # Print each profile in this source\n",
    "    for profile, score in profiles:\n",
    "        profile_key = profile[\"key\"]\n",
    "        name = profile[\"info\"][\"full_name\"]\n",
    "        print(f\"- profile \\033[1m{profile_key}\\033[0m {name}: \\033[1m\\033[92m{score:.3f}\\033[0m\")\n",
    "    print()"
   ]
  }
 ],
 "metadata": {
  "language_info": {
   "name": "python"
  }
 },
 "nbformat": 4,
 "nbformat_minor": 2
}
